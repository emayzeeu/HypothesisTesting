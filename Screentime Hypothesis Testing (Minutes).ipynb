{
 "cells": [
  {
   "attachments": {},
   "cell_type": "markdown",
   "metadata": {},
   "source": [
    "## **Hypothesis Testing**"
   ]
  },
  {
   "attachments": {},
   "cell_type": "markdown",
   "metadata": {},
   "source": [
    "In this project, we will work on a dataset that has the laptop screen time data of a person. The goal of this project is to see whether the person uses his laptop more on weekdays or on weekends. We will run a Two-sample Test for Means to conduct a hypothesis test to see whether we have any statistically significant difference between laptop usage on weekdays vs. weekends.\n",
    "The dataset contains two months of laptop usage data. There are 3 columns, 'Date', 'Day' and 'Usage'. Screentime is recorded in hours (e.g. 6.40 hours)."
   ]
  },
  {
   "cell_type": "code",
   "execution_count": 1,
   "metadata": {},
   "outputs": [],
   "source": [
    "# importing relevant libraries\n",
    "import pandas as pd\n",
    "import numpy as np\n",
    "from scipy import stats"
   ]
  },
  {
   "cell_type": "code",
   "execution_count": 2,
   "metadata": {},
   "outputs": [],
   "source": [
    "path = 'screentime.csv'"
   ]
  },
  {
   "cell_type": "code",
   "execution_count": 3,
   "metadata": {},
   "outputs": [
    {
     "data": {
      "text/html": [
       "<div>\n",
       "<style scoped>\n",
       "    .dataframe tbody tr th:only-of-type {\n",
       "        vertical-align: middle;\n",
       "    }\n",
       "\n",
       "    .dataframe tbody tr th {\n",
       "        vertical-align: top;\n",
       "    }\n",
       "\n",
       "    .dataframe thead th {\n",
       "        text-align: right;\n",
       "    }\n",
       "</style>\n",
       "<table border=\"1\" class=\"dataframe\">\n",
       "  <thead>\n",
       "    <tr style=\"text-align: right;\">\n",
       "      <th></th>\n",
       "      <th>Date</th>\n",
       "      <th>Day</th>\n",
       "      <th>Usage</th>\n",
       "    </tr>\n",
       "  </thead>\n",
       "  <tbody>\n",
       "    <tr>\n",
       "      <th>0</th>\n",
       "      <td>5/1/2023</td>\n",
       "      <td>Monday</td>\n",
       "      <td>6.40</td>\n",
       "    </tr>\n",
       "    <tr>\n",
       "      <th>1</th>\n",
       "      <td>5/2/2023</td>\n",
       "      <td>Tuesday</td>\n",
       "      <td>6.61</td>\n",
       "    </tr>\n",
       "    <tr>\n",
       "      <th>2</th>\n",
       "      <td>5/3/2023</td>\n",
       "      <td>Wednesday</td>\n",
       "      <td>5.16</td>\n",
       "    </tr>\n",
       "    <tr>\n",
       "      <th>3</th>\n",
       "      <td>5/4/2023</td>\n",
       "      <td>Thursday</td>\n",
       "      <td>5.26</td>\n",
       "    </tr>\n",
       "    <tr>\n",
       "      <th>4</th>\n",
       "      <td>5/5/2023</td>\n",
       "      <td>Friday</td>\n",
       "      <td>8.87</td>\n",
       "    </tr>\n",
       "  </tbody>\n",
       "</table>\n",
       "</div>"
      ],
      "text/plain": [
       "       Date        Day  Usage\n",
       "0  5/1/2023     Monday   6.40\n",
       "1  5/2/2023    Tuesday   6.61\n",
       "2  5/3/2023  Wednesday   5.16\n",
       "3  5/4/2023   Thursday   5.26\n",
       "4  5/5/2023     Friday   8.87"
      ]
     },
     "execution_count": 3,
     "metadata": {},
     "output_type": "execute_result"
    }
   ],
   "source": [
    "# loading and checking the dataset\n",
    "df = pd.read_csv(path)\n",
    "df.head(5)"
   ]
  },
  {
   "attachments": {},
   "cell_type": "markdown",
   "metadata": {},
   "source": [
    "### **Exploratory Data Analysis and Data Cleaning**"
   ]
  },
  {
   "cell_type": "code",
   "execution_count": 4,
   "metadata": {},
   "outputs": [
    {
     "name": "stdout",
     "output_type": "stream",
     "text": [
      "<class 'pandas.core.frame.DataFrame'>\n",
      "RangeIndex: 61 entries, 0 to 60\n",
      "Data columns (total 3 columns):\n",
      " #   Column  Non-Null Count  Dtype  \n",
      "---  ------  --------------  -----  \n",
      " 0   Date    61 non-null     object \n",
      " 1   Day     61 non-null     object \n",
      " 2   Usage   61 non-null     float64\n",
      "dtypes: float64(1), object(2)\n",
      "memory usage: 1.6+ KB\n"
     ]
    }
   ],
   "source": [
    "df.info()"
   ]
  },
  {
   "attachments": {},
   "cell_type": "markdown",
   "metadata": {},
   "source": [
    "Date column is recorded as 'object' and not 'datetime'. But we do not need to change that for this project."
   ]
  },
  {
   "cell_type": "code",
   "execution_count": 5,
   "metadata": {},
   "outputs": [
    {
     "data": {
      "text/plain": [
       "count    61.000000\n",
       "mean      4.471279\n",
       "std       1.547388\n",
       "min       1.780000\n",
       "25%       3.210000\n",
       "50%       4.560000\n",
       "75%       5.550000\n",
       "max       8.870000\n",
       "Name: Usage, dtype: float64"
      ]
     },
     "execution_count": 5,
     "metadata": {},
     "output_type": "execute_result"
    }
   ],
   "source": [
    "# basic statistics of screentime\n",
    "df['Usage'].describe()"
   ]
  },
  {
   "attachments": {},
   "cell_type": "markdown",
   "metadata": {},
   "source": [
    "Let's convert usage time from hours to minutes."
   ]
  },
  {
   "cell_type": "code",
   "execution_count": 6,
   "metadata": {},
   "outputs": [],
   "source": [
    "df['usage_minutes'] = np.round(df['Usage'] * 60)"
   ]
  },
  {
   "cell_type": "code",
   "execution_count": 7,
   "metadata": {},
   "outputs": [
    {
     "data": {
      "text/plain": [
       "count     61.000000\n",
       "mean     268.459016\n",
       "std       92.838493\n",
       "min      107.000000\n",
       "25%      193.000000\n",
       "50%      274.000000\n",
       "75%      333.000000\n",
       "max      532.000000\n",
       "Name: usage_minutes, dtype: float64"
      ]
     },
     "execution_count": 7,
     "metadata": {},
     "output_type": "execute_result"
    }
   ],
   "source": [
    "df['usage_minutes'].describe()"
   ]
  },
  {
   "cell_type": "code",
   "execution_count": 8,
   "metadata": {},
   "outputs": [],
   "source": [
    "# let's divide the days in 'weekday' or 'weekend' in a new column\n",
    "df['day_type'] = np.where((df['Day'] == 'Saturday') | (df['Day'] == 'Sunday'), 'Weekend', 'Weekday')"
   ]
  },
  {
   "cell_type": "code",
   "execution_count": 9,
   "metadata": {},
   "outputs": [
    {
     "data": {
      "text/plain": [
       "Weekday    45\n",
       "Weekend    16\n",
       "Name: day_type, dtype: int64"
      ]
     },
     "execution_count": 9,
     "metadata": {},
     "output_type": "execute_result"
    }
   ],
   "source": [
    "# checking row count for the new column\n",
    "df['day_type'].value_counts()"
   ]
  },
  {
   "cell_type": "code",
   "execution_count": 10,
   "metadata": {},
   "outputs": [
    {
     "data": {
      "text/html": [
       "<div>\n",
       "<style scoped>\n",
       "    .dataframe tbody tr th:only-of-type {\n",
       "        vertical-align: middle;\n",
       "    }\n",
       "\n",
       "    .dataframe tbody tr th {\n",
       "        vertical-align: top;\n",
       "    }\n",
       "\n",
       "    .dataframe thead th {\n",
       "        text-align: right;\n",
       "    }\n",
       "</style>\n",
       "<table border=\"1\" class=\"dataframe\">\n",
       "  <thead>\n",
       "    <tr style=\"text-align: right;\">\n",
       "      <th></th>\n",
       "      <th>Date</th>\n",
       "      <th>Day</th>\n",
       "      <th>Usage</th>\n",
       "      <th>usage_minutes</th>\n",
       "      <th>day_type</th>\n",
       "    </tr>\n",
       "  </thead>\n",
       "  <tbody>\n",
       "    <tr>\n",
       "      <th>0</th>\n",
       "      <td>5/1/2023</td>\n",
       "      <td>Monday</td>\n",
       "      <td>6.40</td>\n",
       "      <td>384.0</td>\n",
       "      <td>Weekday</td>\n",
       "    </tr>\n",
       "    <tr>\n",
       "      <th>1</th>\n",
       "      <td>5/2/2023</td>\n",
       "      <td>Tuesday</td>\n",
       "      <td>6.61</td>\n",
       "      <td>397.0</td>\n",
       "      <td>Weekday</td>\n",
       "    </tr>\n",
       "    <tr>\n",
       "      <th>2</th>\n",
       "      <td>5/3/2023</td>\n",
       "      <td>Wednesday</td>\n",
       "      <td>5.16</td>\n",
       "      <td>310.0</td>\n",
       "      <td>Weekday</td>\n",
       "    </tr>\n",
       "    <tr>\n",
       "      <th>3</th>\n",
       "      <td>5/4/2023</td>\n",
       "      <td>Thursday</td>\n",
       "      <td>5.26</td>\n",
       "      <td>316.0</td>\n",
       "      <td>Weekday</td>\n",
       "    </tr>\n",
       "    <tr>\n",
       "      <th>4</th>\n",
       "      <td>5/5/2023</td>\n",
       "      <td>Friday</td>\n",
       "      <td>8.87</td>\n",
       "      <td>532.0</td>\n",
       "      <td>Weekday</td>\n",
       "    </tr>\n",
       "  </tbody>\n",
       "</table>\n",
       "</div>"
      ],
      "text/plain": [
       "       Date        Day  Usage  usage_minutes day_type\n",
       "0  5/1/2023     Monday   6.40          384.0  Weekday\n",
       "1  5/2/2023    Tuesday   6.61          397.0  Weekday\n",
       "2  5/3/2023  Wednesday   5.16          310.0  Weekday\n",
       "3  5/4/2023   Thursday   5.26          316.0  Weekday\n",
       "4  5/5/2023     Friday   8.87          532.0  Weekday"
      ]
     },
     "execution_count": 10,
     "metadata": {},
     "output_type": "execute_result"
    }
   ],
   "source": [
    "# let's check the whole dataframe again\n",
    "df.head()"
   ]
  },
  {
   "attachments": {},
   "cell_type": "markdown",
   "metadata": {},
   "source": [
    "Now, we will filter the dataset. We will create two new dataframes, one will have all weekday records and the other will have all weekend records."
   ]
  },
  {
   "cell_type": "code",
   "execution_count": 11,
   "metadata": {},
   "outputs": [],
   "source": [
    "# weekday data\n",
    "weekdays = df[df['day_type'] == 'Weekday']"
   ]
  },
  {
   "cell_type": "code",
   "execution_count": 12,
   "metadata": {},
   "outputs": [],
   "source": [
    "# weekend data\n",
    "weekends = df[df['day_type'] == 'Weekend']"
   ]
  },
  {
   "attachments": {},
   "cell_type": "markdown",
   "metadata": {},
   "source": [
    "### **Observed Mean**"
   ]
  },
  {
   "attachments": {},
   "cell_type": "markdown",
   "metadata": {},
   "source": [
    "Now, let's check the observed mean for both the new datasets."
   ]
  },
  {
   "cell_type": "code",
   "execution_count": 13,
   "metadata": {},
   "outputs": [
    {
     "name": "stdout",
     "output_type": "stream",
     "text": [
      "Weekday observed mean:  272.5111111111111\n",
      "Weekend observed mean:  257.0625\n"
     ]
    }
   ],
   "source": [
    "print('Weekday observed mean: ',weekdays['usage_minutes'].mean())\n",
    "print('Weekend observed mean: ',weekends['usage_minutes'].mean())"
   ]
  },
  {
   "cell_type": "code",
   "execution_count": 14,
   "metadata": {},
   "outputs": [
    {
     "name": "stdout",
     "output_type": "stream",
     "text": [
      "Difference in observed mean:  15.44861111111112\n"
     ]
    }
   ],
   "source": [
    "print('Difference in observed mean: ', weekdays['usage_minutes'].mean() - weekends['usage_minutes'].mean())"
   ]
  },
  {
   "attachments": {},
   "cell_type": "markdown",
   "metadata": {},
   "source": [
    "We see that there is a difference in the observed mean of the screentime for different types of days. But, this observed difference might simply be due to chance - rather than an actual difference in the corresponding population means. A hypothesis test can help us determine whether or not our results are statistically significant. "
   ]
  },
  {
   "attachments": {},
   "cell_type": "markdown",
   "metadata": {},
   "source": [
    "### **Hypothesis Test**"
   ]
  },
  {
   "attachments": {},
   "cell_type": "markdown",
   "metadata": {},
   "source": [
    "In a two-sample t-test, the null hypothesis states that there is no difference between the means of our two groups. The alternative hypothesis states the contrary claim: there is a difference between the means of our two groups. <br>\n",
    "In this case our hypotheses are: <br>\n",
    "- $H_0$: There is no difference in the mean usage time between weekdays and weekends\n",
    "- $H_A$: There is a difference in the mean usage time between weekdays and weekends\n",
    "\n",
    "Our significance level for this test is the standard 5% or 0.05."
   ]
  },
  {
   "cell_type": "code",
   "execution_count": 15,
   "metadata": {},
   "outputs": [
    {
     "data": {
      "text/plain": [
       "Ttest_indResult(statistic=0.5852580741708376, pvalue=0.563075537220598)"
      ]
     },
     "execution_count": 15,
     "metadata": {},
     "output_type": "execute_result"
    }
   ],
   "source": [
    "# hypothesis test\n",
    "stats.ttest_ind(a = weekdays['usage_minutes'], b = weekends['usage_minutes'], equal_var = False)"
   ]
  },
  {
   "attachments": {},
   "cell_type": "markdown",
   "metadata": {},
   "source": [
    "Based on our sample data, the difference between the mean laptop usage weekends and weekdays is 15.44 minutes. <br>\n",
    "Our p-value is 0.56 or around 56%. It means that there is 56% probability  of observing a difference in mean usage time as extreme as or more extreme than the observed difference of 15.44 minutes, if the null hypothesis is true. In other words, it’s likely that the difference in the two means is due to chance."
   ]
  },
  {
   "attachments": {},
   "cell_type": "markdown",
   "metadata": {},
   "source": [
    "### **Result**"
   ]
  },
  {
   "attachments": {},
   "cell_type": "markdown",
   "metadata": {},
   "source": [
    "Since our p-values is greater than the significance level (0.56 > 0.05), we fail to reject the null hypothesis. We conclude that there is not a statistically significant difference between the mean laptop usage time during weekdays and weekends."
   ]
  }
 ],
 "metadata": {
  "kernelspec": {
   "display_name": "Python 3",
   "language": "python",
   "name": "python3"
  },
  "language_info": {
   "codemirror_mode": {
    "name": "ipython",
    "version": 3
   },
   "file_extension": ".py",
   "mimetype": "text/x-python",
   "name": "python",
   "nbconvert_exporter": "python",
   "pygments_lexer": "ipython3",
   "version": "3.10.11"
  },
  "orig_nbformat": 4
 },
 "nbformat": 4,
 "nbformat_minor": 2
}
